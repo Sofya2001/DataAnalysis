{
 "cells": [
  {
   "cell_type": "markdown",
   "id": "720b418a",
   "metadata": {},
   "source": [
    "# ЛИНЕЙНАЯ АЛГЕБРА: СХОДСТВО ТЕКСТОВ И АППРОКСИМАЦИЯ ФУНКЦИЙ\n",
    "## Цели: \n",
    "- Cчитать текст из файла с помощью Python и разбить его на слова\n",
    "- Перевести текст в векторное пространство, вычислить расстояния в этих пространствах\n",
    "- Решить систему линейных уравнений\n",
    "- Приблизить  функцию с помощью многочленов\n",
    "\n"
   ]
  },
  {
   "cell_type": "markdown",
   "id": "58918d28",
   "metadata": {},
   "source": [
    "## Задание 1: сравнение предложений\n",
    ">Дан набор предложений, скопированных с Википедии. Набор находится в файле «sentences.txt». Каждое из них имеет \"кошачью тему\" \n",
    "в одном из трех смыслов:\n",
    ">- кошки (животные)\n",
    ">- UNIX-утилита cat для вывода содержимого файлов\n",
    ">- версии операционной системы OS X, названные в честь семейства кошачьих \n",
    ">\n",
    ">Ваша задача — найти два предложения, которые ближе всего по смыслу к расположенному в самой первой строке. В качестве меры \n",
    "близости по смыслу мы будем использовать косинусное расстояние."
   ]
  },
  {
   "cell_type": "markdown",
   "id": "175182e0",
   "metadata": {},
   "source": [
    "## Выполнение:\n",
    "#### Используемые библиотеки :\n",
    "   - **numpy** для работы с матрицой, \n",
    "   - **re** для работы с регулярными выражениями, \n",
    "   - **scipy** для вычисления косинусного расстояния.\n",
    "\n",
    "#### Используемые функции:\n",
    "   - **open** открытие файла для чтения, записи,\n",
    "   - **readlines** для построчного считывания, \n",
    "   - **write** для записи в файл,\n",
    "   - **split** разбитие строки на элементы под определенный шаблон, возвращат список из этих элементов,\n",
    "   - **lower** приведение к нижнему регистру, \n",
    "   - **write** для записи в файл,\n",
    "   - **append** добавление элемента в список,\n",
    "   - **zeros** создание нулевой матрицы определенного размера,\n",
    "   - **len** размер списка/словаря, \n",
    "   - **cosine** вычисление косинусного расстояния.\n",
    "\n",
    "#### Шаги выполнения:\n",
    "1. Создание и открытие файлов\n",
    "2. Построчное считывание с файла\n",
    "3. Приведение строк к нижнему регистру, посредством их перебора и их запись в отдельный файл\n",
    "4. Перебор строк, их разбиение на элементы, проверка элемента на пустое значение, добавление не пустых значенние в отдельный список\n",
    "5. Избавление от повторяющихся элементов в списке\n",
    "6. Сопоставление каждому слову индекс от нуля до (d - 1), где d — число различных слов в предложениях\n",
    "7. Создание матрицы с нулевыми значениями\n",
    "8. Заполнение матрицы элементов, с индексом (i, j) в этой матрице должен быть равен количеству вхождений j-го слова в i-е предложение. \n",
    "9. Нахождение косинусного расстояния\n",
    "10. Запись в файл номера двух итоговых предложений"
   ]
  },
  {
   "cell_type": "markdown",
   "id": "467afaba",
   "metadata": {},
   "source": [
    "## Код:"
   ]
  },
  {
   "cell_type": "code",
   "execution_count": 25,
   "id": "9d79fc9f",
   "metadata": {},
   "outputs": [],
   "source": [
    "import numpy\n",
    "import re\n",
    "from scipy.spatial.distance import cosine"
   ]
  },
  {
   "cell_type": "code",
   "execution_count": 2,
   "id": "3c5bb9f0",
   "metadata": {},
   "outputs": [],
   "source": [
    "sentences=open('C:\\\\Users\\\\Sofya_Chirkova\\\\Desktop\\\\sentences.txt','r+')\n",
    "senten = open('C:\\\\Users\\\\Sofya_Chirkova\\\\Desktop\\\\sentences_lower.txt', 'w')"
   ]
  },
  {
   "cell_type": "code",
   "execution_count": 3,
   "id": "9daf68f5",
   "metadata": {},
   "outputs": [],
   "source": [
    "lines= sentences.readlines()"
   ]
  },
  {
   "cell_type": "code",
   "execution_count": 4,
   "id": "48b4e759",
   "metadata": {},
   "outputs": [],
   "source": [
    "for line in lines :\n",
    "    senten.write(line.lower())\n",
    "senten.close()    "
   ]
  },
  {
   "cell_type": "code",
   "execution_count": 5,
   "id": "ef98d7dc",
   "metadata": {},
   "outputs": [],
   "source": [
    "senten = open('C:\\\\Users\\\\Sofya_Chirkova\\\\Desktop\\\\sentences_lower.txt', 'r')\n",
    "senten_lines= senten.readlines()"
   ]
  },
  {
   "cell_type": "code",
   "execution_count": 6,
   "id": "9bab4d93",
   "metadata": {},
   "outputs": [
    {
     "name": "stdout",
     "output_type": "stream",
     "text": [
      "[['in', 'comparison', 'to', 'dogs', 'cats', 'have', 'not', 'undergone', 'major', 'changes', 'during', 'the', 'domestication', 'process'], ['as', 'cat', 'simply', 'catenates', 'streams', 'of', 'bytes', 'it', 'can', 'be', 'also', 'used', 'to', 'concatenate', 'binary', 'files', 'where', 'it', 'will', 'just', 'concatenate', 'sequence', 'of', 'bytes'], ['a', 'common', 'interactive', 'use', 'of', 'cat', 'for', 'a', 'single', 'file', 'is', 'to', 'output', 'the', 'content', 'of', 'a', 'file', 'to', 'standard', 'output'], ['cats', 'can', 'hear', 'sounds', 'too', 'faint', 'or', 'too', 'high', 'in', 'frequency', 'for', 'human', 'ears', 'such', 'as', 'those', 'made', 'by', 'mice', 'and', 'other', 'small', 'animals'], ['in', 'one', 'people', 'deliberately', 'tamed', 'cats', 'in', 'a', 'process', 'of', 'artificial', 'selection', 'as', 'they', 'were', 'useful', 'predators', 'of', 'vermin'], ['the', 'domesticated', 'cat', 'and', 'its', 'closest', 'wild', 'ancestor', 'are', 'both', 'diploid', 'organisms', 'that', 'possess', 'chromosomes', 'and', 'roughly', 'genes'], ['domestic', 'cats', 'are', 'similar', 'in', 'size', 'to', 'the', 'other', 'members', 'of', 'the', 'genus', 'felis', 'typically', 'weighing', 'between', 'and', 'kg', 'and', 'lb'], ['however', 'if', 'the', 'output', 'is', 'piped', 'or', 'redirected', 'cat', 'is', 'unnecessary'], ['cat', 'with', 'one', 'named', 'file', 'is', 'safer', 'where', 'human', 'error', 'is', 'a', 'concern', 'one', 'wrong', 'use', 'of', 'the', 'default', 'redirection', 'symbol', 'instead', 'of', 'often', 'adjacent', 'on', 'keyboards', 'may', 'permanently', 'delete', 'the', 'file', 'you', 'were', 'just', 'needing', 'to', 'read'], ['in', 'terms', 'of', 'legibility', 'a', 'sequence', 'of', 'commands', 'starting', 'with', 'cat', 'and', 'connected', 'by', 'pipes', 'has', 'a', 'clear', 'left', 'to', 'right', 'flow', 'of', 'information'], ['cat', 'command', 'is', 'one', 'of', 'the', 'basic', 'commands', 'that', 'you', 'learned', 'when', 'you', 'started', 'in', 'the', 'unix', 'linux', 'world'], ['using', 'cat', 'command', 'the', 'lines', 'received', 'from', 'stdin', 'can', 'be', 'redirected', 'to', 'a', 'new', 'file', 'using', 'redirection', 'symbols'], ['when', 'you', 'type', 'simply', 'cat', 'command', 'without', 'any', 'arguments', 'it', 'just', 'receives', 'the', 'stdin', 'content', 'and', 'displays', 'it', 'in', 'the', 'stdout'], ['leopard', 'was', 'released', 'on', 'october', 'as', 'the', 'successor', 'of', 'tiger', 'version', 'and', 'is', 'available', 'in', 'two', 'editions'], ['according', 'to', 'apple', 'leopard', 'contains', 'over', 'changes', 'and', 'enhancements', 'over', 'its', 'predecessor', 'mac', 'os', 'x', 'tiger'], ['as', 'of', 'mid', 'some', 'apple', 'computers', 'have', 'firmware', 'factory', 'installed', 'which', 'will', 'no', 'longer', 'allow', 'installation', 'of', 'mac', 'os', 'x', 'leopard'], ['since', 'apple', 'moved', 'to', 'using', 'intel', 'processors', 'in', 'their', 'computers', 'the', 'osx', 'community', 'has', 'developed', 'and', 'now', 'also', 'allows', 'mac', 'os', 'x', 'tiger', 'and', 'later', 'releases', 'to', 'be', 'installed', 'on', 'non', 'apple', 'x', 'based', 'computers'], ['os', 'x', 'mountain', 'lion', 'was', 'released', 'on', 'july', 'for', 'purchase', 'and', 'download', 'through', 'apple', 's', 'mac', 'app', 'store', 'as', 'part', 'of', 'a', 'switch', 'to', 'releasing', 'os', 'x', 'versions', 'online', 'and', 'every', 'year'], ['apple', 'has', 'released', 'a', 'small', 'patch', 'for', 'the', 'three', 'most', 'recent', 'versions', 'of', 'safari', 'running', 'on', 'os', 'x', 'yosemite', 'mavericks', 'and', 'mountain', 'lion'], ['the', 'mountain', 'lion', 'release', 'marks', 'the', 'second', 'time', 'apple', 'has', 'offered', 'an', 'incremental', 'upgrade', 'rather', 'than', 'releasing', 'a', 'new', 'cat', 'entirely'], ['mac', 'os', 'x', 'mountain', 'lion', 'installs', 'in', 'place', 'so', 'you', 'won', 't', 'need', 'to', 'create', 'a', 'separate', 'disk', 'or', 'run', 'the', 'installation', 'off', 'an', 'external', 'drive'], ['the', 'fifth', 'major', 'update', 'to', 'mac', 'os', 'x', 'leopard', 'contains', 'such', 'a', 'mountain', 'of', 'features', 'more', 'than', 'by', 'apple', 's', 'count']]\n"
     ]
    },
    {
     "data": {
      "text/plain": [
       "22"
      ]
     },
     "execution_count": 6,
     "metadata": {},
     "output_type": "execute_result"
    }
   ],
   "source": [
    "list_2=[]\n",
    "list_3=[]\n",
    "all_s=[]\n",
    "for line in senten_lines:\n",
    "    list=re.split('[^a-z]',line)\n",
    "    list_2=[x for x in list if x]\n",
    "    list_3.append(list_2)\n",
    "    all_s=all_s+list_2\n",
    "print(list_3)\n",
    "len(list_3)"
   ]
  },
  {
   "cell_type": "code",
   "execution_count": 7,
   "id": "50f1c2f4",
   "metadata": {},
   "outputs": [],
   "source": [
    "set_all=[]\n",
    "for a in all_s :\n",
    "    if a not in set_all:\n",
    "        set_all.append(a)"
   ]
  },
  {
   "cell_type": "code",
   "execution_count": 8,
   "id": "4c9faae7",
   "metadata": {},
   "outputs": [
    {
     "name": "stdout",
     "output_type": "stream",
     "text": [
      "{0: 'in', 1: 'comparison', 2: 'to', 3: 'dogs', 4: 'cats', 5: 'have', 6: 'not', 7: 'undergone', 8: 'major', 9: 'changes', 10: 'during', 11: 'the', 12: 'domestication', 13: 'process', 14: 'as', 15: 'cat', 16: 'simply', 17: 'catenates', 18: 'streams', 19: 'of', 20: 'bytes', 21: 'it', 22: 'can', 23: 'be', 24: 'also', 25: 'used', 26: 'concatenate', 27: 'binary', 28: 'files', 29: 'where', 30: 'will', 31: 'just', 32: 'sequence', 33: 'a', 34: 'common', 35: 'interactive', 36: 'use', 37: 'for', 38: 'single', 39: 'file', 40: 'is', 41: 'output', 42: 'content', 43: 'standard', 44: 'hear', 45: 'sounds', 46: 'too', 47: 'faint', 48: 'or', 49: 'high', 50: 'frequency', 51: 'human', 52: 'ears', 53: 'such', 54: 'those', 55: 'made', 56: 'by', 57: 'mice', 58: 'and', 59: 'other', 60: 'small', 61: 'animals', 62: 'one', 63: 'people', 64: 'deliberately', 65: 'tamed', 66: 'artificial', 67: 'selection', 68: 'they', 69: 'were', 70: 'useful', 71: 'predators', 72: 'vermin', 73: 'domesticated', 74: 'its', 75: 'closest', 76: 'wild', 77: 'ancestor', 78: 'are', 79: 'both', 80: 'diploid', 81: 'organisms', 82: 'that', 83: 'possess', 84: 'chromosomes', 85: 'roughly', 86: 'genes', 87: 'domestic', 88: 'similar', 89: 'size', 90: 'members', 91: 'genus', 92: 'felis', 93: 'typically', 94: 'weighing', 95: 'between', 96: 'kg', 97: 'lb', 98: 'however', 99: 'if', 100: 'piped', 101: 'redirected', 102: 'unnecessary', 103: 'with', 104: 'named', 105: 'safer', 106: 'error', 107: 'concern', 108: 'wrong', 109: 'default', 110: 'redirection', 111: 'symbol', 112: 'instead', 113: 'often', 114: 'adjacent', 115: 'on', 116: 'keyboards', 117: 'may', 118: 'permanently', 119: 'delete', 120: 'you', 121: 'needing', 122: 'read', 123: 'terms', 124: 'legibility', 125: 'commands', 126: 'starting', 127: 'connected', 128: 'pipes', 129: 'has', 130: 'clear', 131: 'left', 132: 'right', 133: 'flow', 134: 'information', 135: 'command', 136: 'basic', 137: 'learned', 138: 'when', 139: 'started', 140: 'unix', 141: 'linux', 142: 'world', 143: 'using', 144: 'lines', 145: 'received', 146: 'from', 147: 'stdin', 148: 'new', 149: 'symbols', 150: 'type', 151: 'without', 152: 'any', 153: 'arguments', 154: 'receives', 155: 'displays', 156: 'stdout', 157: 'leopard', 158: 'was', 159: 'released', 160: 'october', 161: 'successor', 162: 'tiger', 163: 'version', 164: 'available', 165: 'two', 166: 'editions', 167: 'according', 168: 'apple', 169: 'contains', 170: 'over', 171: 'enhancements', 172: 'predecessor', 173: 'mac', 174: 'os', 175: 'x', 176: 'mid', 177: 'some', 178: 'computers', 179: 'firmware', 180: 'factory', 181: 'installed', 182: 'which', 183: 'no', 184: 'longer', 185: 'allow', 186: 'installation', 187: 'since', 188: 'moved', 189: 'intel', 190: 'processors', 191: 'their', 192: 'osx', 193: 'community', 194: 'developed', 195: 'now', 196: 'allows', 197: 'later', 198: 'releases', 199: 'non', 200: 'based', 201: 'mountain', 202: 'lion', 203: 'july', 204: 'purchase', 205: 'download', 206: 'through', 207: 's', 208: 'app', 209: 'store', 210: 'part', 211: 'switch', 212: 'releasing', 213: 'versions', 214: 'online', 215: 'every', 216: 'year', 217: 'patch', 218: 'three', 219: 'most', 220: 'recent', 221: 'safari', 222: 'running', 223: 'yosemite', 224: 'mavericks', 225: 'release', 226: 'marks', 227: 'second', 228: 'time', 229: 'offered', 230: 'an', 231: 'incremental', 232: 'upgrade', 233: 'rather', 234: 'than', 235: 'entirely', 236: 'installs', 237: 'place', 238: 'so', 239: 'won', 240: 't', 241: 'need', 242: 'create', 243: 'separate', 244: 'disk', 245: 'run', 246: 'off', 247: 'external', 248: 'drive', 249: 'fifth', 250: 'update', 251: 'features', 252: 'more', 253: 'count'}\n"
     ]
    }
   ],
   "source": [
    "dict_words={}\n",
    "d=0\n",
    "for a in set_all:\n",
    "    if a not in dict_words:\n",
    "        dict_words[d]=a\n",
    "        d+=1\n",
    "print(dict_words)"
   ]
  },
  {
   "cell_type": "code",
   "execution_count": 9,
   "id": "87da3322",
   "metadata": {},
   "outputs": [],
   "source": [
    "a = numpy.zeros(shape=(len(list_3),len(dict_words)))"
   ]
  },
  {
   "cell_type": "code",
   "execution_count": 10,
   "id": "0a599949",
   "metadata": {},
   "outputs": [],
   "source": [
    "k=0\n",
    "for i in range(0,len(list_3)):\n",
    "    for j in range(0,len(dict_words)):\n",
    "        for g in list_3[i]:\n",
    "            if dict_words[j]==g:\n",
    "                k+=1\n",
    "            a[i][j]=k\n",
    "        k=0  "
   ]
  },
  {
   "cell_type": "code",
   "execution_count": 11,
   "id": "fe2f312f",
   "metadata": {},
   "outputs": [
    {
     "name": "stdout",
     "output_type": "stream",
     "text": [
      "[[1. 1. 1. ... 0. 0. 0.]\n",
      " [0. 0. 1. ... 0. 0. 0.]\n",
      " [0. 0. 2. ... 0. 0. 0.]\n",
      " ...\n",
      " [0. 0. 0. ... 0. 0. 0.]\n",
      " [1. 0. 1. ... 0. 0. 0.]\n",
      " [0. 0. 1. ... 1. 1. 1.]]\n"
     ]
    }
   ],
   "source": [
    "print(a)"
   ]
  },
  {
   "cell_type": "code",
   "execution_count": 12,
   "id": "ced106ee",
   "metadata": {},
   "outputs": [
    {
     "name": "stdout",
     "output_type": "stream",
     "text": [
      "[['in', 'comparison', 'to', 'dogs', 'cats', 'have', 'not', 'undergone', 'major', 'changes', 'during', 'the', 'domestication', 'process'], ['as', 'cat', 'simply', 'catenates', 'streams', 'of', 'bytes', 'it', 'can', 'be', 'also', 'used', 'to', 'concatenate', 'binary', 'files', 'where', 'it', 'will', 'just', 'concatenate', 'sequence', 'of', 'bytes'], ['a', 'common', 'interactive', 'use', 'of', 'cat', 'for', 'a', 'single', 'file', 'is', 'to', 'output', 'the', 'content', 'of', 'a', 'file', 'to', 'standard', 'output'], ['cats', 'can', 'hear', 'sounds', 'too', 'faint', 'or', 'too', 'high', 'in', 'frequency', 'for', 'human', 'ears', 'such', 'as', 'those', 'made', 'by', 'mice', 'and', 'other', 'small', 'animals'], ['in', 'one', 'people', 'deliberately', 'tamed', 'cats', 'in', 'a', 'process', 'of', 'artificial', 'selection', 'as', 'they', 'were', 'useful', 'predators', 'of', 'vermin'], ['the', 'domesticated', 'cat', 'and', 'its', 'closest', 'wild', 'ancestor', 'are', 'both', 'diploid', 'organisms', 'that', 'possess', 'chromosomes', 'and', 'roughly', 'genes'], ['domestic', 'cats', 'are', 'similar', 'in', 'size', 'to', 'the', 'other', 'members', 'of', 'the', 'genus', 'felis', 'typically', 'weighing', 'between', 'and', 'kg', 'and', 'lb'], ['however', 'if', 'the', 'output', 'is', 'piped', 'or', 'redirected', 'cat', 'is', 'unnecessary'], ['cat', 'with', 'one', 'named', 'file', 'is', 'safer', 'where', 'human', 'error', 'is', 'a', 'concern', 'one', 'wrong', 'use', 'of', 'the', 'default', 'redirection', 'symbol', 'instead', 'of', 'often', 'adjacent', 'on', 'keyboards', 'may', 'permanently', 'delete', 'the', 'file', 'you', 'were', 'just', 'needing', 'to', 'read'], ['in', 'terms', 'of', 'legibility', 'a', 'sequence', 'of', 'commands', 'starting', 'with', 'cat', 'and', 'connected', 'by', 'pipes', 'has', 'a', 'clear', 'left', 'to', 'right', 'flow', 'of', 'information'], ['cat', 'command', 'is', 'one', 'of', 'the', 'basic', 'commands', 'that', 'you', 'learned', 'when', 'you', 'started', 'in', 'the', 'unix', 'linux', 'world'], ['using', 'cat', 'command', 'the', 'lines', 'received', 'from', 'stdin', 'can', 'be', 'redirected', 'to', 'a', 'new', 'file', 'using', 'redirection', 'symbols'], ['when', 'you', 'type', 'simply', 'cat', 'command', 'without', 'any', 'arguments', 'it', 'just', 'receives', 'the', 'stdin', 'content', 'and', 'displays', 'it', 'in', 'the', 'stdout'], ['leopard', 'was', 'released', 'on', 'october', 'as', 'the', 'successor', 'of', 'tiger', 'version', 'and', 'is', 'available', 'in', 'two', 'editions'], ['according', 'to', 'apple', 'leopard', 'contains', 'over', 'changes', 'and', 'enhancements', 'over', 'its', 'predecessor', 'mac', 'os', 'x', 'tiger'], ['as', 'of', 'mid', 'some', 'apple', 'computers', 'have', 'firmware', 'factory', 'installed', 'which', 'will', 'no', 'longer', 'allow', 'installation', 'of', 'mac', 'os', 'x', 'leopard'], ['since', 'apple', 'moved', 'to', 'using', 'intel', 'processors', 'in', 'their', 'computers', 'the', 'osx', 'community', 'has', 'developed', 'and', 'now', 'also', 'allows', 'mac', 'os', 'x', 'tiger', 'and', 'later', 'releases', 'to', 'be', 'installed', 'on', 'non', 'apple', 'x', 'based', 'computers'], ['os', 'x', 'mountain', 'lion', 'was', 'released', 'on', 'july', 'for', 'purchase', 'and', 'download', 'through', 'apple', 's', 'mac', 'app', 'store', 'as', 'part', 'of', 'a', 'switch', 'to', 'releasing', 'os', 'x', 'versions', 'online', 'and', 'every', 'year'], ['apple', 'has', 'released', 'a', 'small', 'patch', 'for', 'the', 'three', 'most', 'recent', 'versions', 'of', 'safari', 'running', 'on', 'os', 'x', 'yosemite', 'mavericks', 'and', 'mountain', 'lion'], ['the', 'mountain', 'lion', 'release', 'marks', 'the', 'second', 'time', 'apple', 'has', 'offered', 'an', 'incremental', 'upgrade', 'rather', 'than', 'releasing', 'a', 'new', 'cat', 'entirely'], ['mac', 'os', 'x', 'mountain', 'lion', 'installs', 'in', 'place', 'so', 'you', 'won', 't', 'need', 'to', 'create', 'a', 'separate', 'disk', 'or', 'run', 'the', 'installation', 'off', 'an', 'external', 'drive'], ['the', 'fifth', 'major', 'update', 'to', 'mac', 'os', 'x', 'leopard', 'contains', 'such', 'a', 'mountain', 'of', 'features', 'more', 'than', 'by', 'apple', 's', 'count']]\n"
     ]
    }
   ],
   "source": [
    "print(list_3)"
   ]
  },
  {
   "cell_type": "code",
   "execution_count": 23,
   "id": "9268a7d7",
   "metadata": {},
   "outputs": [],
   "source": [
    "senten_finish = open('C:\\\\Users\\\\Sofya_Chirkova\\\\Desktop\\\\senten_finish', 'w')\n",
    "list_dis=[]\n",
    "list_sort=[]\n",
    "for row in range(1,len(a)):\n",
    "    x=cosine(a[0],a[row])\n",
    "    list_dis.append(x)\n",
    "list_dis.sort()\n",
    "for row in range(1,len(a)):\n",
    "    x=cosine(a[0],a[row])\n",
    "    if x==list_dis[0] or x==list_dis[1]:\n",
    "        senten_finish.write(str(row)+\" \")         \n",
    "senten_finish.close()"
   ]
  },
  {
   "cell_type": "markdown",
   "id": "11a11c48",
   "metadata": {},
   "source": [
    "## Задание 2: аппроксимация функции\n",
    ">Рассмотрим сложную математическую функцию на отрезке [1,15]:\n",
    ">\n",
    "> *f(x) = sin(x / 5) * exp(x / 10) + 5 * exp(-x / 2)*\n",
    "> \n",
    ">Она может описывать, например, зависимость оценок, которые выставляют определенному сорту вина эксперты, в зависимости от возраста этого вина. По сути, задача машинного обучения состоит в том, чтобы приблизить сложную зависимость с помощью функции из определенного семейства. В этом задании мы будем приближать указанную функцию с помощью многочленов.\n",
    ">\n",
    ">Как известно, многочлен степени n (то есть w_0 + w_1 x + w_2 x^2 + ... + w_n x^n) однозначно определяется любыми n + 1 различными точками, через которые он проходит. Это значит, что его коэффициенты w_0, ... w_n можно определить из следующей системы линейных уравнений: \n",
    ">где через x_1, ..., x_n, x_{n+1} обозначены точки, через которые проходит многочлен, а через f(x_1), ..., f(x_n), f(x_{n+1}) — значения, которые он должен принимать в этих точках.\n",
    "Воспользуемся описанным свойством, и будем находить приближение функции многочленом, решая систему линейных уравнений.\n"
   ]
  },
  {
   "cell_type": "markdown",
   "id": "e0804391",
   "metadata": {},
   "source": [
    "## Выполнение:\n",
    "#### Используемые библиотеки :\n",
    "   - **numpy** для работы с матрицой и, для решения системы уравнений\n",
    "   - **matplotlib** постраение графиков\n",
    "\n",
    "#### Используемые функции:\n",
    "   - **f** возвращает значение заданной функции в заданной точки x, которая передается в параметрах\n",
    "   - **zeros** задание нулевой матрицы заданного размера\n",
    "   - **solve** решение системного уравнения, в параметрах передается матрица коэффициентов A и свободный вектор b\n",
    "   - **plot** построение  графика переданной функции в качестве параметра на определеном интервале x\n",
    "   - **set_.label** задание названий осям\n",
    "   - **write** для записи в файл\n",
    "  \n",
    "#### Шаги выполнения:\n",
    "1. Создание функции f(x) = sin(x / 5) * exp(x / 10) + 5 * exp(-x / 2)\n",
    "2. Задание списка из значений x\n",
    "3. Создание свободного вектора, с незаполнеными элементами, количество строчек которого равно размеру ранее созданого списка\n",
    "4. Заполнение свободного вектора,знчениями равными результату функции от передоваемого значения x\n",
    "5. Создание квадратной матрицы коэффициентов А, с незаполнеными элементами, количество строчек и столбцов которого равно размеру ранее созданого списка\n",
    "6. Заполнение матрицы А\n",
    "7. Решение системы уравнения\n",
    "8. Создание функции, которой возвращает многочлен\n",
    "9. Построение графика\n",
    "10. Запись коэффициентов многочлена в файл"
   ]
  },
  {
   "cell_type": "markdown",
   "id": "3c30c91f",
   "metadata": {},
   "source": [
    "## Код:"
   ]
  },
  {
   "cell_type": "code",
   "execution_count": 1,
   "id": "19d059e7",
   "metadata": {},
   "outputs": [],
   "source": [
    "import numpy as np\n",
    "from numpy import linalg as la\n",
    "from matplotlib import pylab as plt"
   ]
  },
  {
   "cell_type": "code",
   "execution_count": 2,
   "id": "69fdb923",
   "metadata": {},
   "outputs": [],
   "source": [
    "def f(x):\n",
    "    return np.sin(x/5)*np.exp(x/10)+5*np.exp(-x/2)"
   ]
  },
  {
   "cell_type": "code",
   "execution_count": 225,
   "id": "b0f5afde",
   "metadata": {},
   "outputs": [],
   "source": [
    "points=[1,4,10,15]"
   ]
  },
  {
   "cell_type": "code",
   "execution_count": 226,
   "id": "fd13e683",
   "metadata": {},
   "outputs": [],
   "source": [
    "b = np.zeros(shape=(len(points),1))"
   ]
  },
  {
   "cell_type": "code",
   "execution_count": 239,
   "id": "1a48641b",
   "metadata": {},
   "outputs": [
    {
     "name": "stdout",
     "output_type": "stream",
     "text": [
      "[[3.25221687]\n",
      " [1.74684595]\n",
      " [2.50541641]\n",
      " [0.63522142]]\n"
     ]
    }
   ],
   "source": [
    "j=0\n",
    "i=0\n",
    "for p in points:\n",
    "    b[i][j]=f(p)\n",
    "    i=i+1\n",
    "print(b)"
   ]
  },
  {
   "cell_type": "code",
   "execution_count": 228,
   "id": "88ef5508",
   "metadata": {},
   "outputs": [],
   "source": [
    "a = np.zeros(shape=(len(points),len(points)))"
   ]
  },
  {
   "cell_type": "code",
   "execution_count": 229,
   "id": "73310138",
   "metadata": {},
   "outputs": [],
   "source": [
    "for i in range (0,len(points)):\n",
    "    for j in range (0,len(points)): \n",
    "        a[i][j]=points[i]**j"
   ]
  },
  {
   "cell_type": "code",
   "execution_count": 240,
   "id": "2de906c8",
   "metadata": {},
   "outputs": [
    {
     "name": "stdout",
     "output_type": "stream",
     "text": [
      "[[1.000e+00 1.000e+00 1.000e+00 1.000e+00]\n",
      " [1.000e+00 4.000e+00 1.600e+01 6.400e+01]\n",
      " [1.000e+00 1.000e+01 1.000e+02 1.000e+03]\n",
      " [1.000e+00 1.500e+01 2.250e+02 3.375e+03]]\n"
     ]
    }
   ],
   "source": [
    "print(a)"
   ]
  },
  {
   "cell_type": "code",
   "execution_count": 114,
   "id": "61969567",
   "metadata": {},
   "outputs": [],
   "source": [
    "w=la.solve(a,b)"
   ]
  },
  {
   "cell_type": "code",
   "execution_count": 223,
   "id": "4641fae5",
   "metadata": {},
   "outputs": [],
   "source": [
    "w_1=la.solve(a,b)"
   ]
  },
  {
   "cell_type": "code",
   "execution_count": 238,
   "id": "d8ca8a3a",
   "metadata": {},
   "outputs": [
    {
     "name": "stdout",
     "output_type": "stream",
     "text": [
      "[[ 4.36264154]\n",
      " [-1.29552587]\n",
      " [ 0.19333685]\n",
      " [-0.00823565]]\n"
     ]
    }
   ],
   "source": [
    "w_2=la.solve(a,b)"
   ]
  },
  {
   "cell_type": "code",
   "execution_count": 215,
   "id": "1e53de6a",
   "metadata": {},
   "outputs": [],
   "source": [
    "def f1(x,r):\n",
    "    y=r[0]\n",
    "    for n in range(1,len(r)):\n",
    "        y=y+r[n]*x**n\n",
    "    return y"
   ]
  },
  {
   "cell_type": "code",
   "execution_count": 233,
   "id": "243424b9",
   "metadata": {},
   "outputs": [
    {
     "data": {
      "text/plain": [
       "<matplotlib.legend.Legend at 0x261687aa9d0>"
      ]
     },
     "execution_count": 233,
     "metadata": {},
     "output_type": "execute_result"
    },
    {
     "data": {
      "image/png": "[encoded data removed]",
      "text/plain": [
       "<Figure size 432x288 with 1 Axes>"
      ]
     },
     "metadata": {
      "needs_background": "light"
     },
     "output_type": "display_data"
    }
   ],
   "source": [
    "_, ax = plt.subplots()\n",
    "x = np.arange(1, 15, 0.1)\n",
    "ax.plot(x, f(x), color=\"blue\", label= \"f(x)\")\n",
    "ax.plot(x,f1(x,w), color=\"red\", label= \"f1(x)\")\n",
    "ax.plot(x,f1(x,w_1), color=\"green\", label= \"f2(x)\")\n",
    "ax.plot(x,f1(x,w_2), color=\"black\", label= \"f3(x)\")\n",
    "ax.set_xlabel(\"x\")\n",
    "ax.set_ylabel(\"y\")\n",
    "ax.legend()"
   ]
  },
  {
   "cell_type": "code",
   "execution_count": 251,
   "id": "24a9a8e3",
   "metadata": {},
   "outputs": [],
   "source": [
    "aproximation = open('C:\\\\Users\\\\Sofya_Chirkova\\\\Desktop\\\\aproximation.txt', 'w')\n",
    "for apr in w_2:\n",
    "    for f in apr:\n",
    "        aproximation.write(str(f)+ \" \")\n",
    "aproximation.close()"
   ]
  }
 ],
 "metadata": {
  "kernelspec": {
   "display_name": "Python 3",
   "language": "python",
   "name": "python3"
  },
  "language_info": {
   "codemirror_mode": {
    "name": "ipython",
    "version": 3
   },
   "file_extension": ".py",
   "mimetype": "text/x-python",
   "name": "python",
   "nbconvert_exporter": "python",
   "pygments_lexer": "ipython3",
   "version": "3.8.8"
  }
 },
 "nbformat": 4,
 "nbformat_minor": 5
}
