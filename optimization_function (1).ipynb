{
 "cells": [
  {
   "cell_type": "markdown",
   "id": "1e1e9ca8",
   "metadata": {},
   "source": [
    "# Оптимизация, глобальная оптимизация, и оптимизация негладкой функции\n",
    "## Цели: \n",
    "- научится применять библиотеку SciPy для минимизации функций\n",
    "- научится делать выбор между градиентными и неградиентными методами оптимизации, исходя из особенностей задачи и пожеланий к итоговому решению\n",
    "\n"
   ]
  },
  {
   "cell_type": "markdown",
   "id": "3a864682",
   "metadata": {},
   "source": [
    "## Задание 1: Минимизация гладкой функции\n",
    "> Необходимо найти минимум функции f(x) = sin(x / 5) * exp(x / 10) + 5 * exp(-x / 2),  на промежутке [1, 30]  с помощью scipy.optimize. "
   ]
  },
  {
   "cell_type": "markdown",
   "id": "74a42311",
   "metadata": {},
   "source": [
    "## Выполнение:"
   ]
  },
  {
   "cell_type": "markdown",
   "id": "c094c395",
   "metadata": {},
   "source": [
    "*Объявление необходимых библиотек:*"
   ]
  },
  {
   "cell_type": "code",
   "execution_count": 87,
   "id": "16151179",
   "metadata": {},
   "outputs": [],
   "source": [
    "import math\n",
    "from scipy.optimize import minimize\n",
    "from matplotlib import pylab as plt"
   ]
  },
  {
   "cell_type": "markdown",
   "id": "2967de15",
   "metadata": {},
   "source": [
    "*Функция f(x), которая вычисляет и возвращает значение выражения sin(x / 5) * exp(x / 10) + 5 * exp(-x / 2) по известному x:*"
   ]
  },
  {
   "cell_type": "code",
   "execution_count": 88,
   "id": "7d45406d",
   "metadata": {},
   "outputs": [],
   "source": [
    "def f(x):\n",
    "    return math.sin(x/5)*math.exp(x/10)+5*math.exp(-x/2)"
   ]
  },
  {
   "cell_type": "markdown",
   "id": "c5041af1",
   "metadata": {},
   "source": [
    "*Нахождение минимума, используя стандартные параметры в функции scipy.optimize.minimize. При смене значения начального приближения вблизи 3 результат менялся не значительно, но после того как значение было изменено на 15, то значение результата резко и значительно упало*"
   ]
  },
  {
   "cell_type": "code",
   "execution_count": 68,
   "id": "280c1d56",
   "metadata": {},
   "outputs": [],
   "source": [
    "min_fun=minimize(f,3.0)"
   ]
  },
  {
   "cell_type": "markdown",
   "id": "f2dc9361",
   "metadata": {},
   "source": [
    "*Результат,где fun - искомое значение*"
   ]
  },
  {
   "cell_type": "code",
   "execution_count": 69,
   "id": "dac914e6",
   "metadata": {},
   "outputs": [
    {
     "name": "stdout",
     "output_type": "stream",
     "text": [
      "      fun: 1.7452682905857713\n",
      " hess_inv: array([[5.94248075]])\n",
      "      jac: array([-9.16421413e-06])\n",
      "  message: 'Optimization terminated successfully.'\n",
      "     nfev: 12\n",
      "      nit: 5\n",
      "     njev: 6\n",
      "   status: 0\n",
      "  success: True\n",
      "        x: array([4.13623333])\n"
     ]
    }
   ],
   "source": [
    "print(min_fun)"
   ]
  },
  {
   "cell_type": "markdown",
   "id": "b46329cf",
   "metadata": {},
   "source": [
    "*Нахождение минимума используя метод BFGS (один из самых точных в большинстве случаев градиентных методов оптимизации),  начального приближения равно 2*"
   ]
  },
  {
   "cell_type": "code",
   "execution_count": 70,
   "id": "05c9229b",
   "metadata": {},
   "outputs": [],
   "source": [
    "min_BFGS_2=minimize(f,2.0,method='BFGS')"
   ]
  },
  {
   "cell_type": "markdown",
   "id": "ebb61f9f",
   "metadata": {},
   "source": [
    "*Нахождение минимума используя метод BFGS (один из самых точных в большинстве случаев градиентных методов оптимизации),  начального приближения равно 30*"
   ]
  },
  {
   "cell_type": "code",
   "execution_count": 127,
   "id": "72bcc569",
   "metadata": {},
   "outputs": [],
   "source": [
    "min_BFGS_30=minimize(f,30.0,method='BFGS')"
   ]
  },
  {
   "cell_type": "markdown",
   "id": "ba1099c7",
   "metadata": {},
   "source": [
    "*Запись результата в файл*"
   ]
  },
  {
   "cell_type": "code",
   "execution_count": 89,
   "id": "8ccd0ccf",
   "metadata": {},
   "outputs": [],
   "source": [
    "min = open('C:\\\\Users\\\\Sofya_Chirkova\\\\Desktop\\\\result_1.txt', 'w')\n",
    "min.write(str(round(min_BFGS_2.fun,2))+\" \"+ str(round(min_BFGS_30.fun,2)))\n",
    "min.close()"
   ]
  },
  {
   "cell_type": "markdown",
   "id": "2e685c39",
   "metadata": {},
   "source": [
    "## Задание 2: Глобальная оптимизация\n",
    "> Необходимо применить к функции f(x) = sin(x / 5) * exp(x / 10) + 5 * exp(-x / 2),  на промежутке [1, 30]  метод глобальной оптимизации — дифференциальную эволюцию"
   ]
  },
  {
   "cell_type": "markdown",
   "id": "de7efe79",
   "metadata": {},
   "source": [
    "*Добавление необходимых библиотек:*"
   ]
  },
  {
   "cell_type": "code",
   "execution_count": 53,
   "id": "30cad148",
   "metadata": {},
   "outputs": [],
   "source": [
    "from scipy.optimize import differential_evolution"
   ]
  },
  {
   "cell_type": "markdown",
   "id": "05291060",
   "metadata": {},
   "source": [
    "*Поиск минимума функции f(x) с помощью дифференциальной эволюции на промежутке [1, 30]:*"
   ]
  },
  {
   "cell_type": "code",
   "execution_count": 91,
   "id": "d3e128f7",
   "metadata": {},
   "outputs": [],
   "source": [
    "bounds = [(1,30)]\n",
    "min_DE = differential_evolution(f, bounds)"
   ]
  },
  {
   "cell_type": "markdown",
   "id": "2641d72e",
   "metadata": {},
   "source": [
    "*Запись результата в файл*"
   ]
  },
  {
   "cell_type": "code",
   "execution_count": 92,
   "id": "4fe48803",
   "metadata": {},
   "outputs": [],
   "source": [
    "min_DE_file = open('C:\\\\Users\\\\Sofya_Chirkova\\\\Desktop\\\\result_2.txt', 'w')\n",
    "min_DE_file.write(str(round(min_DE.fun,2)))\n",
    "min_DE_file.close()"
   ]
  },
  {
   "cell_type": "markdown",
   "id": "55ce5f00",
   "metadata": {},
   "source": [
    "## Задание 3: Минимизация негладкой функции\n",
    "> Рассмотреть функцию h(x) = int(f(x)) на том же интервале, построить график, найти минимум функции."
   ]
  },
  {
   "cell_type": "markdown",
   "id": "9318b49c",
   "metadata": {},
   "source": [
    "*Добавление библиотеки для построения графиков:*"
   ]
  },
  {
   "cell_type": "code",
   "execution_count": 97,
   "id": "153105fc",
   "metadata": {},
   "outputs": [],
   "source": [
    "from matplotlib import pylab as plt\n",
    "import numpy as np"
   ]
  },
  {
   "cell_type": "markdown",
   "id": "79e24c34",
   "metadata": {},
   "source": [
    "*Создание функции h(x):*"
   ]
  },
  {
   "cell_type": "code",
   "execution_count": 119,
   "id": "55949dae",
   "metadata": {},
   "outputs": [],
   "source": [
    "def h(x):\n",
    "    return int(np.sin(x/5)*np.exp(x/10)+5*np.exp(-x/2))"
   ]
  },
  {
   "cell_type": "markdown",
   "id": "29cf7c5d",
   "metadata": {},
   "source": [
    "*Построение графика на промежутке [1,30]:*"
   ]
  },
  {
   "cell_type": "code",
   "execution_count": 120,
   "id": "9f202089",
   "metadata": {},
   "outputs": [
    {
     "data": {
      "text/plain": [
       "[<matplotlib.lines.Line2D at 0x29e9641ffa0>]"
      ]
     },
     "execution_count": 120,
     "metadata": {},
     "output_type": "execute_result"
    },
    {
     "data": {
      "image/png": "[encoded data removed]",
      "text/plain": [
       "<Figure size 432x288 with 1 Axes>"
      ]
     },
     "metadata": {
      "needs_background": "light"
     },
     "output_type": "display_data"
    }
   ],
   "source": [
    "_, ax = plt.subplots()\n",
    "f2 = np.vectorize(h)\n",
    "x = np.arange(1, 30, 0.1)\n",
    "ax.plot(x, f2(x), color=\"blue\", label= \"h(x)\")"
   ]
  },
  {
   "cell_type": "markdown",
   "id": "3c40cf4b",
   "metadata": {},
   "source": [
    "*Минимум функции h(x) с помощью BFGS, взяв в качестве начального приближения x=30:*"
   ]
  },
  {
   "cell_type": "code",
   "execution_count": 121,
   "id": "d0b17f73",
   "metadata": {},
   "outputs": [],
   "source": [
    "min_BFGS_step=minimize(h,30,method='BFGS')"
   ]
  },
  {
   "cell_type": "markdown",
   "id": "65ec940b",
   "metadata": {},
   "source": [
    "*Поиск минимума функции f(x) с помощью дифференциальной эволюции на промежутке [1, 30]:*"
   ]
  },
  {
   "cell_type": "code",
   "execution_count": 124,
   "id": "d50da409",
   "metadata": {},
   "outputs": [],
   "source": [
    "bounds = [(1,30)]\n",
    "min_DE_step = differential_evolution(h, bounds)"
   ]
  },
  {
   "cell_type": "markdown",
   "id": "2f2b0bf8",
   "metadata": {},
   "source": [
    "*Запись результата в файл:*"
   ]
  },
  {
   "cell_type": "code",
   "execution_count": 131,
   "id": "28ce325e",
   "metadata": {},
   "outputs": [],
   "source": [
    "min_step_file = open('C:\\\\Users\\\\Sofya_Chirkova\\\\Desktop\\\\result_3.txt', 'w')\n",
    "min_step_file.write(str(min_BFGS_step.fun)+\" \"+str(min_DE_step.fun))\n",
    "min_DE_file.close()"
   ]
  }
 ],
 "metadata": {
  "kernelspec": {
   "display_name": "Python 3",
   "language": "python",
   "name": "python3"
  },
  "language_info": {
   "codemirror_mode": {
    "name": "ipython",
    "version": 3
   },
   "file_extension": ".py",
   "mimetype": "text/x-python",
   "name": "python",
   "nbconvert_exporter": "python",
   "pygments_lexer": "ipython3",
   "version": "3.8.8"
  }
 },
 "nbformat": 4,
 "nbformat_minor": 5
}
